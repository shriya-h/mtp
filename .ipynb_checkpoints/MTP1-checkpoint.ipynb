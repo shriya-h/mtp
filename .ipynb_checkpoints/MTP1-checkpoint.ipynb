{
  "cells": [
    {
      "cell_type": "code",
      "execution_count": null,
      "metadata": {
        "id": "wGDUEZZwaK5U"
      },
      "outputs": [],
      "source": [
        "import pulp\n",
        "import numpy as np\n",
        "import matplotlib.pyplot as plt\n",
        "import time"
      ]
    },
    {
      "cell_type": "markdown",
      "metadata": {
        "id": "zhzWrKiEzKrn"
      },
      "source": [
        "# Cybsec_L"
      ]
    },
    {
      "cell_type": "code",
      "execution_count": null,
      "metadata": {
        "colab": {
          "base_uri": "https://localhost:8080/"
        },
        "id": "_rArIbU5xRaC",
        "outputId": "dff786fc-4e97-4cec-dc37-89c123a31ee3"
      },
      "outputs": [
        {
          "name": "stdout",
          "output_type": "stream",
          "text": [
            "Status: Optimal\n",
            "Total cost = 2000.0\n"
          ]
        }
      ],
      "source": [
        "import pulp\n",
        "\n",
        "# Data from the paper (replace these with actual values from the problem)\n",
        "I = range(10)  # Nodes (e.g., i = 10 nodes)\n",
        "J = range(20)  # Safeguards (e.g., j = 20 safeguards)\n",
        "L = [0, 1, 2, 3]  # Levels of safeguard implementation (e.g., 4 levels)\n",
        "\n",
        "# Parameters from the paper\n",
        "cjl = {(i, j, l): 10 * (l+1) for i in I for j in J for l in L}  # Example cost data from the paper\n",
        "p_i = {i: 0.1 * (i + 1) for i in I}  # Example attack probabilities\n",
        "d_i = {i: 1000 * (i + 1) for i in I}  # Example costs of losses from breaches\n",
        "V_i = {i: 0.9 for i in I}  # Example intrinsic vulnerabilities for nodes\n",
        "r_ijl = {(i, j, l): 0.1 * (l+1) for i in I for j in J for l in L}  # Example vulnerability reduction factors\n",
        "\n",
        "# Create the problem\n",
        "prob = pulp.LpProblem(\"Cybsec_L\", pulp.LpMinimize)\n",
        "\n",
        "# Decision variables\n",
        "u_ijl = pulp.LpVariable.dicts(\"u_ijl\", (I, J, L), cat='Binary')\n",
        "v_ijl = pulp.LpVariable.dicts(\"v_ijl\", (I, J, L), lowBound=0)\n",
        "W_i = pulp.LpVariable.dicts(\"W_i\", I, lowBound=0)\n",
        "\n",
        "# Objective function: Minimize cybersecurity investment and expected cost of losses\n",
        "prob += pulp.lpSum([cjl[(i, j, l)] * u_ijl[i][j][l] for i in I for j in J for l in L]) + \\\n",
        "        pulp.lpSum([p_i[i] * d_i[i] * W_i[i] for i in I])\n",
        "\n",
        "# Constraints\n",
        "# Safeguard selection constraints\n",
        "for i in I:\n",
        "    for j in J:\n",
        "        prob += pulp.lpSum([u_ijl[i][j][l] for l in L]) == 1, f\"Selection_{i}_{j}\"\n",
        "\n",
        "# Vulnerability balance constraints\n",
        "for i in I:\n",
        "    prob += pulp.lpSum([v_ijl[i][1][l] for l in L]) == V_i[i], f\"Initial_vulnerability_{i}\"\n",
        "    for j in J[:-1]:\n",
        "        prob += pulp.lpSum([r_ijl[(i, j, l)] * v_ijl[i][j][l] for l in L]) == \\\n",
        "                pulp.lpSum([v_ijl[i][j + 1][l] for l in L]), f\"Intermediate_vulnerability_{i}_{j}\"\n",
        "    prob += pulp.lpSum([r_ijl[(i, J[-1], l)] * v_ijl[i][J[-1]][l] for l in L]) == W_i[i], f\"Final_vulnerability_{i}\"\n",
        "\n",
        "# Solve the problem\n",
        "prob.solve()\n",
        "\n",
        "# Output the results\n",
        "print(\"Status:\", pulp.LpStatus[prob.status])\n",
        "# for v in prob.variables():\n",
        "#     print(v.name, \"=\", v.varValue)\n",
        "\n",
        "print(\"Total cost =\", pulp.value(prob.objective))\n"
      ]
    },
    {
      "cell_type": "markdown",
      "metadata": {
        "id": "Kf8ZDD540iIV"
      },
      "source": [
        "# Cybsec_BW"
      ]
    },
    {
      "cell_type": "code",
      "execution_count": null,
      "metadata": {
        "colab": {
          "base_uri": "https://localhost:8080/"
        },
        "id": "rk2Q66Ac0kdW",
        "outputId": "8eca1973-231f-4b08-fdf2-53c415d2c502"
      },
      "outputs": [
        {
          "name": "stdout",
          "output_type": "stream",
          "text": [
            "Status: Optimal\n",
            "W_max: 0.7\n",
            "W_min: 0.0\n",
            "Node 1: W = 0.7, x = 0.0\n",
            "Node 2: W = 0.4, x = 0.0\n",
            "Node 3: W = 0.6, x = 0.0\n",
            "Node 4: W = 0.5, x = 1.0\n"
          ]
        }
      ],
      "source": [
        "import pulp\n",
        "\n",
        "# Initialize the problem as a minimization problem\n",
        "prob = pulp.LpProblem(\"Cybsec_BW\", pulp.LpMinimize)\n",
        "\n",
        "# Set of nodes\n",
        "I = [1, 2, 3, 4]  # Example nodes\n",
        "\n",
        "# Vulnerabilities (these would normally be input based on your data)\n",
        "V = {1: 0.7, 2: 0.4, 3: 0.6, 4: 0.5}\n",
        "\n",
        "# Lambda parameter\n",
        "lambda_val = 0.5  # Convex combination weight between min and max\n",
        "\n",
        "# Decision variables\n",
        "W_max = pulp.LpVariable(\"W_max\", lowBound=0, upBound=1)  # Maximum vulnerability\n",
        "W_min = pulp.LpVariable(\"W_min\", lowBound=0, upBound=1)  # Minimum vulnerability\n",
        "x = pulp.LpVariable.dicts(\"x\", I, cat=\"Binary\")  # Binary variable for least vulnerable node\n",
        "W = pulp.LpVariable.dicts(\"W\", I, lowBound=0, upBound=1)  # Vulnerability of each node\n",
        "\n",
        "# Objective function: Minimize (1 - lambda) * W_min + lambda * W_max\n",
        "prob += (1 - lambda_val) * W_min + lambda_val * W_max, \"Objective\"\n",
        "\n",
        "# Constraints\n",
        "for i in I:\n",
        "    prob += W_max >= W[i], f\"Max_vulnerability_{i}\"\n",
        "    prob += W_min <= W[i] + (1 - x[i]), f\"Min_vulnerability_{i}\"\n",
        "\n",
        "# Ensure only one node is the least vulnerable\n",
        "prob += pulp.lpSum(x[i] for i in I) == 1, \"Single_least_vulnerable_node\"\n",
        "\n",
        "# Assign vulnerabilities\n",
        "for i in I:\n",
        "    prob += W[i] == V[i], f\"Assign_vulnerability_{i}\"\n",
        "\n",
        "# Solve the problem\n",
        "prob.solve()\n",
        "\n",
        "# Output the results\n",
        "print(\"Status:\", pulp.LpStatus[prob.status])\n",
        "print(\"W_max:\", W_max.varValue)\n",
        "print(\"W_min:\", W_min.varValue)\n",
        "for i in I:\n",
        "    print(f\"Node {i}: W = {W[i].varValue}, x = {x[i].varValue}\")\n"
      ]
    },
    {
      "cell_type": "markdown",
      "metadata": {
        "id": "jKmkSwaHzNqi"
      },
      "source": [
        "# Cyberport_SLP"
      ]
    },
    {
      "cell_type": "code",
      "execution_count": null,
      "metadata": {
        "colab": {
          "base_uri": "https://localhost:8080/"
        },
        "id": "mNxjpstszQ2c",
        "outputId": "a92c01ad-669b-426d-a135-87daf3c3b7e2"
      },
      "outputs": [
        {
          "name": "stdout",
          "output_type": "stream",
          "text": [
            "Status: Optimal\n",
            "Wk_1 = 0.56\n",
            "Wk_2 = 0.56\n",
            "Wk_3 = 0.54\n",
            "Wk_4 = 0.4\n",
            "u_(1,_0) = 0.0\n",
            "u_(1,_1) = 1.0\n",
            "u_(2,_0) = 0.0\n",
            "u_(2,_1) = 1.0\n",
            "u_(3,_0) = 1.0\n",
            "u_(3,_1) = 0.0\n",
            "u_(4,_0) = 1.0\n",
            "u_(4,_1) = 0.0\n",
            "u_(5,_0) = 1.0\n",
            "u_(5,_1) = 0.0\n",
            "Total cost: 1102.4\n"
          ]
        }
      ],
      "source": [
        "import pulp\n",
        "\n",
        "# Initialize the problem\n",
        "prob = pulp.LpProblem(\"Cyberport_SLP\", pulp.LpMinimize)\n",
        "\n",
        "# Input parameters (replace these with actual values from the paper)\n",
        "J = [1, 2, 3, 4, 5]  # Number of controls\n",
        "L = [0, 1]  # Implementation levels (0: no implementation, 1: implemented)\n",
        "K = [1, 2, 3, 4]  # Components\n",
        "S = [1, 2]  # Attack scenarios\n",
        "\n",
        "# Parameters for each control j and component k\n",
        "C = {1: 10, 2: 20, 3: 30, 4: 40, 5: 50}  # Cost of implementing controls\n",
        "Vk = {1: 0.7, 2: 0.8, 3: 0.6, 4: 0.5}  # Intrinsic vulnerability\n",
        "P = {1: 0.3, 2: 0.4}  # Probability of attack scenarios\n",
        "dk = {1: 1000, 2: 800, 3: 600, 4: 500}  # Cost of security breach\n",
        "qjk = {(1, 1): 0.2, (1, 2): 0.3, (2, 3): 0.1, (2, 4): 0.2}  # Efficiency coefficients\n",
        "\n",
        "# Decision variables: Whether to implement control j at level l\n",
        "u = pulp.LpVariable.dicts(\"u\", [(j, l) for j in J for l in L], cat='Binary')\n",
        "\n",
        "# Auxiliary variable: Reduced vulnerability of component k\n",
        "Wk = pulp.LpVariable.dicts(\"Wk\", K, lowBound=0)\n",
        "\n",
        "# Objective function: Minimize cybersecurity investment and expected cost of losses\n",
        "prob += pulp.lpSum(C[j] * u[(j, 1)] for j in J) + pulp.lpSum(P[s] * dk[k] * Wk[k] for s in S for k in K), \"TotalCost\"\n",
        "\n",
        "# Constraints\n",
        "for j in J:\n",
        "    prob += pulp.lpSum(u[(j, l)] for l in L) == 1, f\"ControlSelection_{j}\"\n",
        "\n",
        "# Vulnerability reduction constraints\n",
        "for k in K:\n",
        "    # Calculate the vulnerability reduction manually\n",
        "    reduced_vulnerability = Vk[k]\n",
        "    for j in J:\n",
        "        if (j, k) in qjk:\n",
        "            reduced_vulnerability *= (1 - qjk[(j, k)] * u[(j, 1)])\n",
        "    prob += Wk[k] == reduced_vulnerability, f\"VulnerabilityReduction_{k}\"\n",
        "\n",
        "# Solve the problem\n",
        "prob.solve()\n",
        "\n",
        "# Print the results\n",
        "print(\"Status:\", pulp.LpStatus[prob.status])\n",
        "for v in prob.variables():\n",
        "    print(v.name, \"=\", v.varValue)\n",
        "\n",
        "print(\"Total cost:\", pulp.value(prob.objective))"
      ]
    },
    {
      "cell_type": "markdown",
      "metadata": {
        "id": "NFAfobQPz9cC"
      },
      "source": [
        "# Cyberport_UBP"
      ]
    },
    {
      "cell_type": "code",
      "execution_count": null,
      "metadata": {
        "colab": {
          "base_uri": "https://localhost:8080/"
        },
        "id": "EQac69P6z6qK",
        "outputId": "1c9ba7e7-7c14-4d1d-c383-bfc6e3669a99"
      },
      "outputs": [
        {
          "name": "stdout",
          "output_type": "stream",
          "text": [
            "Status: Optimal\n",
            "Control 1: Selected = 1.0\n",
            "Control 2: Selected = 1.0\n",
            "Control 3: Selected = 1.0\n",
            "Control 4: Selected = 1.0\n",
            "Control 5: Selected = 1.0\n",
            "Total cybersecurity value (objective): 110.0\n"
          ]
        }
      ],
      "source": [
        "import pulp\n",
        "\n",
        "# Initialize the problem\n",
        "prob = pulp.LpProblem(\"Cyberport_UBP\", pulp.LpMaximize)\n",
        "\n",
        "# Input parameters (replace these with actual values from the paper)\n",
        "J = [1, 2, 3, 4, 5]  # List of controls\n",
        "hj = {1: 50, 2: 40, 3: 30, 4: 60, 5: 55}  # Cybersecurity value of each control\n",
        "Cj = {1: 20, 2: 25, 3: 15, 4: 35, 5: 30}  # Cost of each control\n",
        "\n",
        "# Decision variables: Whether to implement control j\n",
        "u = pulp.LpVariable.dicts(\"u\", J, cat=\"Binary\")\n",
        "\n",
        "# Objective function: Maximize total cybersecurity value minus costs\n",
        "prob += pulp.lpSum((hj[j] - Cj[j]) * u[j] for j in J), \"TotalCybersecurityValue\"\n",
        "\n",
        "# Solve the problem\n",
        "prob.solve()\n",
        "\n",
        "# Output the results\n",
        "print(\"Status:\", pulp.LpStatus[prob.status])\n",
        "for j in J:\n",
        "    print(f\"Control {j}: Selected = {u[j].varValue}\")\n",
        "\n",
        "print(\"Total cybersecurity value (objective):\", pulp.value(prob.objective))\n"
      ]
    },
    {
      "cell_type": "markdown",
      "metadata": {
        "id": "j3F8gk5Y1x2f"
      },
      "source": [
        "# SCybsec_L(Pmax)"
      ]
    },
    {
      "cell_type": "code",
      "execution_count": null,
      "metadata": {
        "colab": {
          "base_uri": "https://localhost:8080/"
        },
        "id": "LoBGFf4i10Gj",
        "outputId": "da4c55f6-259c-44f1-fa0e-d4c718c026b9"
      },
      "outputs": [
        {
          "name": "stdout",
          "output_type": "stream",
          "text": [
            "Status: Infeasible\n",
            "P_max = 24.183\n",
            "Node 1: W = 48.790909\n",
            "Node 2: W = 48.890909\n",
            "Node 3: W = 48.690909\n",
            "Node 4: W = 48.590909\n"
          ]
        }
      ],
      "source": [
        "import pulp\n",
        "\n",
        "# Initialize the problem\n",
        "prob = pulp.LpProblem(\"SCybsec_L_Pmax\", pulp.LpMinimize)\n",
        "\n",
        "# Input data\n",
        "I = [1, 2, 3, 4]  # Set of supply chain nodes\n",
        "J = [1, 2, 3]  # Set of security controls\n",
        "K = [0, 1, 2]  # Implementation levels for each control\n",
        "B = 1000000  # Total budget (example)\n",
        "\n",
        "# Cost of implementing security control j at level k for each node i\n",
        "cjk = {(j, k): 100 * (k + 1) for j in J for k in K}\n",
        "\n",
        "# Parameters\n",
        "di = {1: 450, 2: 1500, 3: 550, 4: 300}  # Loss from security breach\n",
        "pi = {1: 0.35, 2: 0.40, 3: 0.35, 4: 0.25}  # Probability of cyberattack\n",
        "Vi = {1: 0.7, 2: 0.8, 3: 0.6, 4: 0.5}  # Intrinsic vulnerability of each node\n",
        "q = 0.1  # Risk propagation probability\n",
        "ej = {1: 0.9, 2: 0.8, 3: 0.85}  # Efficiency of security controls\n",
        "\n",
        "# Decision variables\n",
        "u = pulp.LpVariable.dicts(\"u\", [(i, j, k) for i in I for j in J for k in K], cat='Binary')\n",
        "W = pulp.LpVariable.dicts(\"W\", I, lowBound=0, upBound=1)  # Vulnerability of secured node i\n",
        "P_max = pulp.LpVariable(\"P_max\", lowBound=0)  # Max breach probability\n",
        "\n",
        "# Auxiliary variables for linearization\n",
        "reduced_vulnerability = pulp.LpVariable.dicts(\"reduced_vulnerability\", I, lowBound=0, upBound=1)\n",
        "\n",
        "# Objective function: Minimize P_max\n",
        "prob += P_max, \"Minimize Maximum Breach Probability\"\n",
        "\n",
        "# Constraints\n",
        "# (1) Control selection constraint: exactly one level of each control must be selected for each node\n",
        "for i in I:\n",
        "    for j in J:\n",
        "        prob += pulp.lpSum(u[(i, j, k)] for k in K) == 1, f\"ControlSelection_Node_{i}_Control_{j}\"\n",
        "\n",
        "# (2) Budget constraint: total cost cannot exceed available budget\n",
        "prob += pulp.lpSum(cjk[(j, k)] * u[(i, j, k)] for i in I for j in J for k in K) <= B, \"Budget\"\n",
        "\n",
        "# (3) Maximum breach probability constraint\n",
        "for i in I:\n",
        "    prob += pi[i] * W[i] + pulp.lpSum(q * pi[h] * W[h] for h in I if h != i) <= P_max, f\"BreachProbability_Node_{i}\"\n",
        "\n",
        "# (4) Vulnerability balance constraints using linear approximation\n",
        "for i in I:\n",
        "    # Constraints to ensure the correct reduced vulnerability\n",
        "    reduced_vuln_expr = Vi[i]\n",
        "    for j in J:\n",
        "        for k in K:\n",
        "            # Linear approximation of the product term\n",
        "            prob += reduced_vulnerability[i] >= reduced_vuln_expr - (1 - ej[j] * cjk[(j, k)] * u[(i, j, k)]), f\"V_LowerBound_{i}_{j}_{k}\"\n",
        "            prob += reduced_vulnerability[i] <= reduced_vuln_expr, f\"V_UpperBound_{i}_{j}_{k}\"\n",
        "\n",
        "    # Link reduced vulnerability with W[i]\n",
        "    prob += W[i] == reduced_vulnerability[i], f\"Vulnerability_Node_{i}\"\n",
        "\n",
        "# Solve the problem\n",
        "prob.solve()\n",
        "\n",
        "# Output the results\n",
        "print(\"Status:\", pulp.LpStatus[prob.status])\n",
        "print(\"P_max =\", P_max.varValue)\n",
        "for i in I:\n",
        "    print(f\"Node {i}: W = {W[i].varValue}\")\n"
      ]
    },
    {
      "cell_type": "markdown",
      "metadata": {
        "id": "O6NspZGd236u"
      },
      "source": [
        "# SCybsec_L(Lmax)"
      ]
    },
    {
      "cell_type": "code",
      "execution_count": null,
      "metadata": {
        "colab": {
          "base_uri": "https://localhost:8080/"
        },
        "id": "hG_uHAdw21ai",
        "outputId": "98b2928a-cdec-4043-c6c1-e8aaf9115662"
      },
      "outputs": [
        {
          "name": "stdout",
          "output_type": "stream",
          "text": [
            "Status: Infeasible\n",
            "L_max = 0.0\n",
            "Node 1: W = 0.0\n",
            "Node 2: W = 0.0\n",
            "Node 3: W = 0.0\n",
            "Node 4: W = 0.0\n"
          ]
        }
      ],
      "source": [
        "import pulp\n",
        "\n",
        "# Initialize the problem\n",
        "prob = pulp.LpProblem(\"SCybsec_L_Lmax\", pulp.LpMinimize)\n",
        "\n",
        "# Input data (replace these with actual values from the problem in the paper)\n",
        "I = [1, 2, 3, 4]  # Set of supply chain nodes\n",
        "J = [1, 2, 3]  # Set of security controls\n",
        "K = [0, 1, 2]  # Implementation levels for each control\n",
        "B = 100  # Total budget (example)\n",
        "\n",
        "# Cost of implementing security control j at level k for each node i\n",
        "cjk = {(j, k): 100 * (k + 1) for j in J for k in K}\n",
        "\n",
        "# Parameters\n",
        "di = {1: 450, 2: 1500, 3: 550, 4: 300}  # Loss from security breach for each node\n",
        "pi = {1: 0.35, 2: 0.40, 3: 0.35, 4: 0.25}  # Probability of cyberattack on each node\n",
        "Vi = {1: 0.7, 2: 0.8, 3: 0.6, 4: 0.5}  # Intrinsic vulnerability of each node\n",
        "q = 0.1  # Risk propagation probability\n",
        "ej = {1: 0.9, 2: 0.8, 3: 0.85}  # Efficiency of security controls\n",
        "\n",
        "# Decision variables\n",
        "u = pulp.LpVariable.dicts(\"u\", [(i, j, k) for i in I for j in J for k in K], cat='Binary')\n",
        "W = pulp.LpVariable.dicts(\"W\", I, lowBound=0, upBound=1)  # Vulnerability of secured node i\n",
        "L_max = pulp.LpVariable(\"L_max\", lowBound=0)  # Max expected loss\n",
        "\n",
        "# Auxiliary variables for product terms\n",
        "V_intermediate = pulp.LpVariable.dicts(\"V_intermediate\", [(i, j, k) for i in I for j in J for k in K], lowBound=0, upBound=1)\n",
        "\n",
        "# Objective function: Minimize L_max\n",
        "prob += L_max, \"Minimize Maximum Expected Loss\"\n",
        "\n",
        "# Constraints\n",
        "# (1) Control selection constraint: exactly one level of each control must be selected for each node\n",
        "for i in I:\n",
        "    for j in J:\n",
        "        prob += pulp.lpSum(u[(i, j, k)] for k in K) == 1, f\"ControlSelection_Node_{i}_Control_{j}\"\n",
        "\n",
        "# (2) Budget constraint: total cost cannot exceed available budget\n",
        "prob += pulp.lpSum(cjk[(j, k)] * u[(i, j, k)] for i in I for j in J for k in K) <= B, \"Budget\"\n",
        "\n",
        "# (3) Maximum expected loss constraint\n",
        "for i in I:\n",
        "    prob += di[i] * (pi[i] * W[i] + pulp.lpSum(q * pi[h] * W[h] for h in I if h != i)) <= L_max, f\"ExpectedLoss_Node_{i}\"\n",
        "\n",
        "# (4) Vulnerability balance constraints\n",
        "for i in I:\n",
        "    # Initialize reduced vulnerability\n",
        "    reduced_vulnerability = Vi[i]\n",
        "\n",
        "    # Create constraints for intermediate product terms\n",
        "    for j in J:\n",
        "        for k in K:\n",
        "            prob += V_intermediate[(i, j, k)] == (1 - ej[j] * cjk[(j, k)] * u[(i, j, k)]), f\"V_Intermediate_{i}_{j}_{k}\"\n",
        "\n",
        "    # Constraints to simulate product (non-constant expressions are approximated)\n",
        "    for j in J:\n",
        "        for k in K:\n",
        "            # Linearize the multiplication approximation using big-M method\n",
        "            prob += W[i] >= reduced_vulnerability - (1 - V_intermediate[(i, j, k)]) * (Vi[i] + 1), f\"V_Approx_Node_{i}_{j}_{k}\"\n",
        "\n",
        "    prob += W[i] == pulp.lpSum(V_intermediate[(i, j, k)] for j in J for k in K), f\"Vulnerability_Node_{i}\"\n",
        "\n",
        "# Solve the problem\n",
        "prob.solve()\n",
        "\n",
        "# Output the results\n",
        "print(\"Status:\", pulp.LpStatus[prob.status])\n",
        "print(\"L_max =\", L_max.varValue)\n",
        "for i in I:\n",
        "    print(f\"Node {i}: W = {W[i].varValue}\")\n"
      ]
    }
  ],
  "metadata": {
    "colab": {
      "provenance": []
    },
    "kernelspec": {
      "display_name": "Python 3",
      "name": "python3"
    },
    "language_info": {
      "name": "python"
    }
  },
  "nbformat": 4,
  "nbformat_minor": 0
}
